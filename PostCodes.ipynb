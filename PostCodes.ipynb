{
 "cells": [
  {
   "cell_type": "code",
   "execution_count": 1,
   "id": "5c113e54-e9cd-4718-bca6-c4370d2c469f",
   "metadata": {},
   "outputs": [
    {
     "name": "stderr",
     "output_type": "stream",
     "text": [
      "C:\\Users\\lewil\\AppData\\Local\\Temp\\ipykernel_18556\\1551108445.py:8: DtypeWarning: Columns (6,7) have mixed types. Specify dtype option on import or set low_memory=False.\n",
      "  df = pd.read_csv('C:/Users/lewil/OneDrive - University of Bristol/Msc Geographic Data Science & Spatial Analytics/Dissertation/Data/GB_full.txt',\n"
     ]
    }
   ],
   "source": [
    "# cropping GB-full.txt to only have relevant columns\n",
    "import pandas as pd\n",
    "\n",
    "# loading in text file of GB postcodes\n",
    "cols = ['country_code', 'postcode', 'place_name', 'state_name', 'state_code', \n",
    "        'county_name', 'community_name', 'Community_name', 'community_code', \n",
    "        'latitude', 'longitude', 'accuracy']\n",
    "df = pd.read_csv('C:/Users/lewil/OneDrive - University of Bristol/Msc Geographic Data Science & Spatial Analytics/Dissertation/Data/GB_full.txt', \n",
    "                      sep='\\t', header=None, names=cols, index_col=False)\n",
    "\n",
    "# only keeping England Postcodes\n",
    "df = df[df[\"state_code\"].isin([\"ENG\"])]\n",
    "\n",
    "# keeping only relevant columns\n",
    "GB_PostalCodes = df[['postcode', 'latitude', 'longitude']]\n",
    "# exporting to csv\n",
    "GB_PostalCodes.to_csv('C:/Users/lewil/OneDrive - University of Bristol/Msc Geographic Data Science & Spatial Analytics/Dissertation/Data/GB_PostalCodes.csv', \n",
    "                      index=False)"
   ]
  },
  {
   "cell_type": "code",
   "execution_count": 2,
   "id": "f9071b83-e8b6-4a62-b913-6340d6c22487",
   "metadata": {},
   "outputs": [
    {
     "data": {
      "text/html": [
       "<div>\n",
       "<style scoped>\n",
       "    .dataframe tbody tr th:only-of-type {\n",
       "        vertical-align: middle;\n",
       "    }\n",
       "\n",
       "    .dataframe tbody tr th {\n",
       "        vertical-align: top;\n",
       "    }\n",
       "\n",
       "    .dataframe thead th {\n",
       "        text-align: right;\n",
       "    }\n",
       "</style>\n",
       "<table border=\"1\" class=\"dataframe\">\n",
       "  <thead>\n",
       "    <tr style=\"text-align: right;\">\n",
       "      <th></th>\n",
       "      <th>postcode</th>\n",
       "      <th>latitude</th>\n",
       "      <th>longitude</th>\n",
       "    </tr>\n",
       "  </thead>\n",
       "  <tbody>\n",
       "    <tr>\n",
       "      <th>1504039</th>\n",
       "      <td>WV98 2EN</td>\n",
       "      <td>52.4054</td>\n",
       "      <td>-2.22</td>\n",
       "    </tr>\n",
       "    <tr>\n",
       "      <th>1504040</th>\n",
       "      <td>WV98 2EP</td>\n",
       "      <td>52.4054</td>\n",
       "      <td>-2.22</td>\n",
       "    </tr>\n",
       "    <tr>\n",
       "      <th>1504041</th>\n",
       "      <td>WV98 2EQ</td>\n",
       "      <td>52.4054</td>\n",
       "      <td>-2.22</td>\n",
       "    </tr>\n",
       "    <tr>\n",
       "      <th>1504042</th>\n",
       "      <td>WV98 2ER</td>\n",
       "      <td>52.4054</td>\n",
       "      <td>-2.22</td>\n",
       "    </tr>\n",
       "    <tr>\n",
       "      <th>1504043</th>\n",
       "      <td>WV98 2ES</td>\n",
       "      <td>52.4054</td>\n",
       "      <td>-2.22</td>\n",
       "    </tr>\n",
       "  </tbody>\n",
       "</table>\n",
       "</div>"
      ],
      "text/plain": [
       "         postcode  latitude  longitude\n",
       "1504039  WV98 2EN   52.4054      -2.22\n",
       "1504040  WV98 2EP   52.4054      -2.22\n",
       "1504041  WV98 2EQ   52.4054      -2.22\n",
       "1504042  WV98 2ER   52.4054      -2.22\n",
       "1504043  WV98 2ES   52.4054      -2.22"
      ]
     },
     "execution_count": 2,
     "metadata": {},
     "output_type": "execute_result"
    }
   ],
   "source": [
    "# checking\n",
    "GB_PostalCodes.tail()"
   ]
  }
 ],
 "metadata": {
  "kernelspec": {
   "display_name": "Python 3 (ipykernel)",
   "language": "python",
   "name": "python3"
  },
  "language_info": {
   "codemirror_mode": {
    "name": "ipython",
    "version": 3
   },
   "file_extension": ".py",
   "mimetype": "text/x-python",
   "name": "python",
   "nbconvert_exporter": "python",
   "pygments_lexer": "ipython3",
   "version": "3.10.9"
  }
 },
 "nbformat": 4,
 "nbformat_minor": 5
}
